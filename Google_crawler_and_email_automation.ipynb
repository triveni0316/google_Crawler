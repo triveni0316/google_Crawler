{
  "nbformat": 4,
  "nbformat_minor": 0,
  "metadata": {
    "colab": {
      "provenance": [],
      "authorship_tag": "ABX9TyMxdmpd3kGjsSLnCB+VvLdz",
      "include_colab_link": true
    },
    "kernelspec": {
      "name": "python3",
      "display_name": "Python 3"
    },
    "language_info": {
      "name": "python"
    }
  },
  "cells": [
    {
      "cell_type": "markdown",
      "metadata": {
        "id": "view-in-github",
        "colab_type": "text"
      },
      "source": [
        "<a href=\"https://colab.research.google.com/github/triveni0316/Projects/blob/main/Google_crawler_and_email_automation.ipynb\" target=\"_parent\"><img src=\"https://colab.research.google.com/assets/colab-badge.svg\" alt=\"Open In Colab\"/></a>"
      ]
    },
    {
      "cell_type": "code",
      "execution_count": 4,
      "metadata": {
        "id": "LAxl7UDEkZVi"
      },
      "outputs": [],
      "source": [
        "#Google Crawler\n",
        "import requests\n",
        "from bs4 import BeautifulSoup\n",
        "#Email automation\n",
        "import smtplib\n",
        "from email.mime.multipart import MIMEMultipart\n",
        "from email.mime.text import MIMEText\n",
        "from email.mime.base import MIMEBase\n",
        "from email import encoders\n",
        "import os\n"
      ]
    },
    {
      "cell_type": "code",
      "source": [
        "def web(page, WebUrl):\n",
        "    if page > 0:\n",
        "        url = WebUrl\n",
        "        code = requests.get(url)\n",
        "        plain = code.text\n",
        "        soup = BeautifulSoup(plain, \"html.parser\")\n",
        "        for link in soup.findAll('a'):#<a>\n",
        "            title = link.get('title')\n",
        "            href = link.get('href')\n",
        "            print(f\"Title: {title}, URL: {href}\")\n",
        "# Example usage\n",
        "web(1, 'https://www.amazon.in/mobile-phones/b?ie=UTF8&node=1389401031&ref_=nav_shopall_sbc_mobcomp_all_mobiles')"
      ],
      "metadata": {
        "colab": {
          "base_uri": "https://localhost:8080/"
        },
        "id": "2MgrlQ2vkgNr",
        "outputId": "76be6da2-4680-46db-84a2-6237e17089b6"
      },
      "execution_count": 3,
      "outputs": [
        {
          "output_type": "stream",
          "name": "stdout",
          "text": [
            "Title: None, URL: None\n",
            "Title: None, URL: None\n",
            "Title: None, URL: /ref=nav_logo\n",
            "Title: None, URL: None\n",
            "Title: None, URL: /customer-preferences/edit?ie=UTF8&preferencesReturnUrl=%2F&ref_=topnav_lang\n",
            "Title: None, URL: https://www.amazon.in/ap/signin?openid.pape.max_auth_age=0&openid.return_to=https%3A%2F%2Fwww.amazon.in%2Fmobile-phones%2Fb%2F%3F_encoding%3DUTF8%26ie%3DUTF8%26node%3D1389401031%26ref_%3Dnav_ya_signin&openid.identity=http%3A%2F%2Fspecs.openid.net%2Fauth%2F2.0%2Fidentifier_select&openid.assoc_handle=inflex&openid.mode=checkid_setup&openid.claimed_id=http%3A%2F%2Fspecs.openid.net%2Fauth%2F2.0%2Fidentifier_select&openid.ns=http%3A%2F%2Fspecs.openid.net%2Fauth%2F2.0\n",
            "Title: None, URL: /gp/css/order-history?ref_=nav_orders_first\n",
            "Title: None, URL: /gp/cart/view.html?ref_=nav_cart\n",
            "Title: None, URL: /gp/site-directory?ref_=nav_em_js_disabled\n",
            "Title: None, URL: /fresh?ref_=nav_cs_grocery\n",
            "Title: None, URL: /minitv?ref_=nav_avod_desktop_topnav\n",
            "Title: None, URL: /b/32702023031?node=32702023031&ld=AZINSOANavDesktop_T3&ref_=nav_cs_sell_T3\n",
            "Title: None, URL: /gp/bestsellers/?ref_=nav_cs_bestsellers\n",
            "Title: None, URL: /deals?ref_=nav_cs_gb\n",
            "Title: None, URL: /mobile-phones/b/?ie=UTF8&node=1389401031&ref_=nav_cs_mobiles\n",
            "Title: None, URL: /gp/browse.html?node=6648217031&ref_=nav_cs_fashion\n",
            "Title: None, URL: /electronics/b/?ie=UTF8&node=976419031&ref_=nav_cs_electronics\n",
            "Title: None, URL: /prime?ref_=nav_cs_primelink_nonmember\n",
            "Title: None, URL: /gp/new-releases/?ref_=nav_cs_newreleases\n",
            "Title: None, URL: /Home-Kitchen/b/?ie=UTF8&node=976442031&ref_=nav_cs_home\n",
            "Title: None, URL: /gp/sva/dashboard?ref_=nav_cs_apay\n",
            "Title: None, URL: /gp/help/customer/display.html?nodeId=200507590&ref_=nav_cs_help\n",
            "Title: None, URL: /computers-and-accessories/b/?ie=UTF8&node=976392031&ref_=nav_cs_pc\n",
            "Title: None, URL: /Books/b/?ie=UTF8&node=976389031&ref_=nav_cs_books\n",
            "Title: None, URL: /Car-Motorbike-Store/b/?ie=UTF8&node=4772060031&ref_=nav_cs_automotive\n",
            "Title: None, URL: /gcx/-/gfhz/?ref_=nav_cs_giftfinder\n",
            "Title: None, URL: /Sports/b/?ie=UTF8&node=1984443031&ref_=nav_cs_sports\n",
            "Title: None, URL: /beauty/b/?ie=UTF8&node=1355016031&ref_=nav_cs_beauty\n",
            "Title: None, URL: /Home-Improvement/b/?ie=UTF8&node=4286640031&ref_=nav_cs_hi\n",
            "Title: None, URL: /Toys-Games/b/?ie=UTF8&node=1350380031&ref_=nav_cs_toys\n",
            "Title: None, URL: /Gourmet-Specialty-Foods/b/?ie=UTF8&node=2454178031&ref_=nav_cs_grocery\n",
            "Title: None, URL: /gift-card-store/b/?ie=UTF8&node=3704982031&ref_=nav_cs_gc\n",
            "Title: None, URL: /Amazon-Custom/b/?ie=UTF8&node=32615889031&ref_=nav_cs_custom\n",
            "Title: None, URL: /Baby/b/?ie=UTF8&node=1571274031&ref_=nav_cs_baby\n",
            "Title: None, URL: /health-and-personal-care/b/?ie=UTF8&node=1350384031&ref_=nav_cs_hpc\n",
            "Title: None, URL: /video-games/b/?ie=UTF8&node=976460031&ref_=nav_cs_video_games\n",
            "Title: None, URL: /Pet-Supplies/b/?ie=UTF8&node=2454181031&ref_=nav_cs_pets\n",
            "Title: None, URL: /Audible-Books-and-Originals/b/?ie=UTF8&node=17941593031&ref_=nav_cs_audible\n",
            "Title: None, URL: /b/?node=6637738031&ref_=nav_cs_amazonbasics\n",
            "Title: None, URL: /auto-deliveries/landing?ref_=nav_cs_sns\n",
            "Title: None, URL: /coupons?ref_=nav_cs_coupons\n",
            "Title: None, URL: None\n",
            "Title: None, URL: /gp/history\n",
            "Title: None, URL: /gp/history\n",
            "Title: None, URL: javascript:void(0)\n",
            "Title: None, URL: https://www.aboutamazon.in/?utm_source=gateway&utm_medium=footer\n",
            "Title: None, URL: https://amazon.jobs\n",
            "Title: None, URL: https://press.aboutamazon.in/?utm_source=gateway&utm_medium=footer\n",
            "Title: None, URL: https://www.amazon.science\n",
            "Title: None, URL: https://www.amazon.in/gp/redirect.html/ref=footer_fb?location=http://www.facebook.com/AmazonIN&token=2075D5EAC7BB214089728E2183FD391706D41E94&6\n",
            "Title: None, URL: https://www.amazon.in/gp/redirect.html/ref=footer_twitter?location=http://twitter.com/AmazonIN&token=A309DFBFCB1E37A808FF531934855DC817F130B6&6\n",
            "Title: None, URL: https://www.amazon.in/gp/redirect.html?location=https://www.instagram.com/amazondotin&token=264882C912E9D005CB1D9B61F12E125D5DF9BFC7&source=standards\n",
            "Title: None, URL: /b/?node=2838698031&ld=AZINSOANavDesktopFooter_C&ref_=nav_footer_sell_C\n",
            "Title: None, URL: https://accelerator.amazon.in/?ref_=map_1_b2b_GW_FT\n",
            "Title: None, URL: https://brandservices.amazon.in/?ref=AOINABRLGNRFOOT&ld=AOINABRLGNRFOOT\n",
            "Title: None, URL: https://sell.amazon.in/grow-your-business/amazon-global-selling.html?ld=AZIN_Footer_V1&ref=AZIN_Footer_V1\n",
            "Title: None, URL: https://affiliate-program.amazon.in/?utm_campaign=assocshowcase&utm_medium=footer&utm_source=GW&ref_=footer_assoc\n",
            "Title: None, URL: https://services.amazon.in/services/fulfilment-by-amazon/benefits.html/ref=az_footer_fba?ld=AWRGINFBAfooter\n",
            "Title: None, URL: https://advertising.amazon.in/?ref=Amz.in\n",
            "Title: None, URL: https://www.amazonpay.in/merchant\n",
            "Title: None, URL: /gp/help/customer/display.html?nodeId=GDFU3JS5AL6SYHRD&ref_=footer_covid\n",
            "Title: None, URL: /gp/css/homepage.html?ref_=footer_ya\n",
            "Title: None, URL: /gp/css/returns/homepage.html?ref_=footer_hy_f_4\n",
            "Title: None, URL: /gp/help/customer/display.html?nodeId=201083470&ref_=footer_swc\n",
            "Title: None, URL: /gp/browse.html?node=6967393031&ref_=footer_mobapp\n",
            "Title: None, URL: /gp/help/customer/display.html?nodeId=200507590&ref_=footer_gw_m_b_he\n",
            "Title: None, URL: /ref=footer_logo\n",
            "Title: None, URL: /customer-preferences/edit?ie=UTF8&preferencesReturnUrl=%2F&ref_=footer_lang\n",
            "Title: None, URL: /customer-preferences/country?ie=UTF8&preferencesReturnUrl=%2F&ref_=footer_icp_cp\n",
            "Title: None, URL: https://www.abebooks.com/\n",
            "Title: None, URL: https://aws.amazon.com/what-is-cloud-computing/?sc_channel=EL&sc_campaign=IN_amazonfooter\n",
            "Title: None, URL: https://www.audible.in/\n",
            "Title: None, URL: https://www.imdb.com/\n",
            "Title: None, URL: https://www.shopbop.com/\n",
            "Title: None, URL: /business?ref=footer_aingw\n",
            "Title: None, URL: /now?ref=footer_amznow\n",
            "Title: None, URL: /music/prime?ref=footer_apm\n",
            "Title: None, URL: /gp/help/customer/display.html?nodeId=200545940&ref_=footer_cou\n",
            "Title: None, URL: /gp/help/customer/display.html?nodeId=200534380&ref_=footer_privacy\n",
            "Title: None, URL: /gp/help/customer/display.html?nodeId=202075050&ref_=footer_iba\n"
          ]
        }
      ]
    },
    {
      "cell_type": "code",
      "source": [
        "# SMTP configuration\n",
        "smtp_server = 'smtp.gmail.com'  # For Gmail SMTP server\n",
        "smtp_port = 587  # Port for TLS/STARTTLS\n",
        "smtp_user = 'bondretriveni03@gmail.com'  # Your email address\n",
        "smtp_password = 'hibd ddzb yiqp dpbw'  # Your email account password or app-specific password\n"
      ],
      "metadata": {
        "id": "7tW-fxVykqOu"
      },
      "execution_count": 5,
      "outputs": []
    },
    {
      "cell_type": "code",
      "source": [
        "# Email content\n",
        "sender_email = 'bondretriveni03@gmail.com'\n",
        "receiver_email = 'sender.1233333@gmail.com'\n",
        "subject = 'Test Email with Attachment'\n",
        "body = 'This is a test email sent using Python with an attachment.'\n"
      ],
      "metadata": {
        "id": "8SuFlXzIlHaw"
      },
      "execution_count": 6,
      "outputs": []
    },
    {
      "cell_type": "code",
      "source": [
        "# File to be attached\n",
        "file_path = r\"/content/cbse-class-12-chemistry-question-paper-2019.pdf\"  # Path to the file you want to attach"
      ],
      "metadata": {
        "id": "MVSJDXXelKzy"
      },
      "execution_count": 15,
      "outputs": []
    },
    {
      "cell_type": "code",
      "source": [
        "# Create the email message\n",
        "msg = MIMEMultipart()\n",
        "msg['From'] = sender_email\n",
        "msg['To'] = receiver_email\n",
        "msg['Subject'] = subject\n"
      ],
      "metadata": {
        "id": "f_Kkxtn7lO8C"
      },
      "execution_count": 16,
      "outputs": []
    },
    {
      "cell_type": "code",
      "source": [
        "# Attach the body with the msg instance\n",
        "msg.attach(MIMEText(body, 'plain'))\n",
        "# Attach the file\n",
        "filename = os.path.basename(file_path)\n",
        "attachment = open(file_path, 'rb')\n"
      ],
      "metadata": {
        "id": "9sw4OQtwlSCa"
      },
      "execution_count": 17,
      "outputs": []
    },
    {
      "cell_type": "code",
      "source": [
        "# MIMEBase instance\n",
        "part = MIMEBase('application', 'octet-stream')\n",
        "part.set_payload(attachment.read())\n",
        "attachment.close()\n"
      ],
      "metadata": {
        "id": "IAv7o0W3lWvq"
      },
      "execution_count": 18,
      "outputs": []
    },
    {
      "cell_type": "code",
      "source": [
        "# Encode file in ASCII characters to send by email\n",
        "encoders.encode_base64(part)\n",
        "part.add_header(\n",
        "    'Content-Disposition',\n",
        "    f'attachment; filename={filename}'\n",
        ")\n",
        "\n",
        "# Attach the instance 'part' to the message instance\n",
        "msg.attach(part)"
      ],
      "metadata": {
        "id": "DqVVHkyFleWT"
      },
      "execution_count": 19,
      "outputs": []
    },
    {
      "cell_type": "code",
      "source": [
        "try:\n",
        "    # Connect to the server\n",
        "    server = smtplib.SMTP(smtp_server, smtp_port)\n",
        "    server.starttls()  # Secure the connection\n",
        "\n",
        "    # Login to the email account\n",
        "    server.login(smtp_user, smtp_password)\n",
        "\n",
        "    # Send the email\n",
        "    server.send_message(msg)\n",
        "    print('Email sent successfully.')\n",
        "\n",
        "except Exception as e:\n",
        "    print(f'Failed to send email: {e}')\n",
        "\n",
        "finally:\n",
        "    # Terminate the SMTP session\n",
        "    server.quit()\n"
      ],
      "metadata": {
        "colab": {
          "base_uri": "https://localhost:8080/"
        },
        "id": "Eql_slcdmQCz",
        "outputId": "681fdb43-925f-40b0-fb2e-88e260e307c1"
      },
      "execution_count": 20,
      "outputs": [
        {
          "output_type": "stream",
          "name": "stdout",
          "text": [
            "Email sent successfully.\n"
          ]
        }
      ]
    }
  ]
}